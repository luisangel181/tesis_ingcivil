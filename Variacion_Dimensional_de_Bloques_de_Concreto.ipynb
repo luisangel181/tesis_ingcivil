{
  "nbformat": 4,
  "nbformat_minor": 0,
  "metadata": {
    "colab": {
      "provenance": [],
      "authorship_tag": "ABX9TyNnl4vqv0loWrtqJ/ysc/FY",
      "include_colab_link": true
    },
    "kernelspec": {
      "name": "python3",
      "display_name": "Python 3"
    },
    "language_info": {
      "name": "python"
    }
  },
  "cells": [
    {
      "cell_type": "markdown",
      "metadata": {
        "id": "view-in-github",
        "colab_type": "text"
      },
      "source": [
        "<a href=\"https://colab.research.google.com/github/luisangel181/tesis_ingcivil/blob/main/Variacion_Dimensional_de_Bloques_de_Concreto.ipynb\" target=\"_parent\"><img src=\"https://colab.research.google.com/assets/colab-badge.svg\" alt=\"Open In Colab\"/></a>"
      ]
    },
    {
      "cell_type": "markdown",
      "source": [
        "Tesis: “Adición de poliestireno expandido y fibras de PET recicladas para mejorar las propiedades del bloque de concreto, Cajamarca 2024”\n",
        "\n",
        "Analisis estadistico ANOVA de los resultados de variacion dimensional de bloques de concreto\n",
        "\n",
        "Elaborado por: luis Angel Vásquez Chávez"
      ],
      "metadata": {
        "id": "Nvzko9-INpbA"
      }
    },
    {
      "cell_type": "code",
      "execution_count": 12,
      "metadata": {
        "id": "WnL9RIrNNge1"
      },
      "outputs": [],
      "source": [
        "# librerias a importar\n",
        "import pandas as pd\n",
        "from scipy.stats import shapiro\n",
        "from scipy.stats import levene\n",
        "from scipy.stats import skew\n",
        "import numpy as np\n",
        "from scipy.stats import f_oneway\n",
        "from statsmodels.stats.multicomp import pairwise_tukeyhsd\n",
        "import statsmodels.api as sm\n",
        "from statsmodels.formula.api import ols\n",
        "import matplotlib.pyplot as plt\n",
        "import seaborn as sns"
      ]
    },
    {
      "cell_type": "code",
      "source": [
        "from google.colab import drive\n",
        "drive.mount('/content/drive')"
      ],
      "metadata": {
        "colab": {
          "base_uri": "https://localhost:8080/"
        },
        "id": "FDzI_5YGR-kz",
        "outputId": "e40b8482-2e9a-4227-b1a0-654f4333b59c"
      },
      "execution_count": 13,
      "outputs": [
        {
          "output_type": "stream",
          "name": "stdout",
          "text": [
            "Drive already mounted at /content/drive; to attempt to forcibly remount, call drive.mount(\"/content/drive\", force_remount=True).\n"
          ]
        }
      ]
    },
    {
      "cell_type": "code",
      "source": [
        "# Importar archivo de resultados de resistencia a la compresion - cargar hoja \"compresion\"\n",
        "df_variacion = pd.read_excel(\"/content/drive/MyDrive/RESULTADOS_TESIS CIVIL/Resultados_variacion_dim.xlsx\", sheet_name='Vdimenci')\n",
        "\n",
        "# Visualizar datos\n",
        "df_variacion.head()"
      ],
      "metadata": {
        "colab": {
          "base_uri": "https://localhost:8080/",
          "height": 206
        },
        "id": "2NbW5DVoVEmY",
        "outputId": "86f3bfa2-8cef-4720-a047-1c0f157d10e7"
      },
      "execution_count": 32,
      "outputs": [
        {
          "output_type": "execute_result",
          "data": {
            "text/plain": [
              "        Dosificación  Bloque 1  Bloque 2  Bloque 3  Bloque 4  Bloque 5  \\\n",
              "0             Patrón -0.085470 -0.085470  0.042735  0.042735  0.000000   \n",
              "1   5% PE y 0.5% PET -0.042735  0.000000 -0.042735 -0.085470  0.085470   \n",
              "2  10% PE y 0.5% PET -0.128205  0.085470  0.042735  0.128205 -0.256410   \n",
              "3  15% PE y 0.5% PET -0.256410 -0.128205 -0.042735  0.042735 -0.042735   \n",
              "4             Patrón -0.297619 -0.446429 -0.297619 -0.297619 -0.446429   \n",
              "\n",
              "  Dimension  \n",
              "0     Largo  \n",
              "1     Largo  \n",
              "2     Largo  \n",
              "3     Largo  \n",
              "4     Ancho  "
            ],
            "text/html": [
              "\n",
              "  <div id=\"df-43f01593-b54f-428a-b039-b6c3f5a60eda\" class=\"colab-df-container\">\n",
              "    <div>\n",
              "<style scoped>\n",
              "    .dataframe tbody tr th:only-of-type {\n",
              "        vertical-align: middle;\n",
              "    }\n",
              "\n",
              "    .dataframe tbody tr th {\n",
              "        vertical-align: top;\n",
              "    }\n",
              "\n",
              "    .dataframe thead th {\n",
              "        text-align: right;\n",
              "    }\n",
              "</style>\n",
              "<table border=\"1\" class=\"dataframe\">\n",
              "  <thead>\n",
              "    <tr style=\"text-align: right;\">\n",
              "      <th></th>\n",
              "      <th>Dosificación</th>\n",
              "      <th>Bloque 1</th>\n",
              "      <th>Bloque 2</th>\n",
              "      <th>Bloque 3</th>\n",
              "      <th>Bloque 4</th>\n",
              "      <th>Bloque 5</th>\n",
              "      <th>Dimension</th>\n",
              "    </tr>\n",
              "  </thead>\n",
              "  <tbody>\n",
              "    <tr>\n",
              "      <th>0</th>\n",
              "      <td>Patrón</td>\n",
              "      <td>-0.085470</td>\n",
              "      <td>-0.085470</td>\n",
              "      <td>0.042735</td>\n",
              "      <td>0.042735</td>\n",
              "      <td>0.000000</td>\n",
              "      <td>Largo</td>\n",
              "    </tr>\n",
              "    <tr>\n",
              "      <th>1</th>\n",
              "      <td>5% PE y 0.5% PET</td>\n",
              "      <td>-0.042735</td>\n",
              "      <td>0.000000</td>\n",
              "      <td>-0.042735</td>\n",
              "      <td>-0.085470</td>\n",
              "      <td>0.085470</td>\n",
              "      <td>Largo</td>\n",
              "    </tr>\n",
              "    <tr>\n",
              "      <th>2</th>\n",
              "      <td>10% PE y 0.5% PET</td>\n",
              "      <td>-0.128205</td>\n",
              "      <td>0.085470</td>\n",
              "      <td>0.042735</td>\n",
              "      <td>0.128205</td>\n",
              "      <td>-0.256410</td>\n",
              "      <td>Largo</td>\n",
              "    </tr>\n",
              "    <tr>\n",
              "      <th>3</th>\n",
              "      <td>15% PE y 0.5% PET</td>\n",
              "      <td>-0.256410</td>\n",
              "      <td>-0.128205</td>\n",
              "      <td>-0.042735</td>\n",
              "      <td>0.042735</td>\n",
              "      <td>-0.042735</td>\n",
              "      <td>Largo</td>\n",
              "    </tr>\n",
              "    <tr>\n",
              "      <th>4</th>\n",
              "      <td>Patrón</td>\n",
              "      <td>-0.297619</td>\n",
              "      <td>-0.446429</td>\n",
              "      <td>-0.297619</td>\n",
              "      <td>-0.297619</td>\n",
              "      <td>-0.446429</td>\n",
              "      <td>Ancho</td>\n",
              "    </tr>\n",
              "  </tbody>\n",
              "</table>\n",
              "</div>\n",
              "    <div class=\"colab-df-buttons\">\n",
              "\n",
              "  <div class=\"colab-df-container\">\n",
              "    <button class=\"colab-df-convert\" onclick=\"convertToInteractive('df-43f01593-b54f-428a-b039-b6c3f5a60eda')\"\n",
              "            title=\"Convert this dataframe to an interactive table.\"\n",
              "            style=\"display:none;\">\n",
              "\n",
              "  <svg xmlns=\"http://www.w3.org/2000/svg\" height=\"24px\" viewBox=\"0 -960 960 960\">\n",
              "    <path d=\"M120-120v-720h720v720H120Zm60-500h600v-160H180v160Zm220 220h160v-160H400v160Zm0 220h160v-160H400v160ZM180-400h160v-160H180v160Zm440 0h160v-160H620v160ZM180-180h160v-160H180v160Zm440 0h160v-160H620v160Z\"/>\n",
              "  </svg>\n",
              "    </button>\n",
              "\n",
              "  <style>\n",
              "    .colab-df-container {\n",
              "      display:flex;\n",
              "      gap: 12px;\n",
              "    }\n",
              "\n",
              "    .colab-df-convert {\n",
              "      background-color: #E8F0FE;\n",
              "      border: none;\n",
              "      border-radius: 50%;\n",
              "      cursor: pointer;\n",
              "      display: none;\n",
              "      fill: #1967D2;\n",
              "      height: 32px;\n",
              "      padding: 0 0 0 0;\n",
              "      width: 32px;\n",
              "    }\n",
              "\n",
              "    .colab-df-convert:hover {\n",
              "      background-color: #E2EBFA;\n",
              "      box-shadow: 0px 1px 2px rgba(60, 64, 67, 0.3), 0px 1px 3px 1px rgba(60, 64, 67, 0.15);\n",
              "      fill: #174EA6;\n",
              "    }\n",
              "\n",
              "    .colab-df-buttons div {\n",
              "      margin-bottom: 4px;\n",
              "    }\n",
              "\n",
              "    [theme=dark] .colab-df-convert {\n",
              "      background-color: #3B4455;\n",
              "      fill: #D2E3FC;\n",
              "    }\n",
              "\n",
              "    [theme=dark] .colab-df-convert:hover {\n",
              "      background-color: #434B5C;\n",
              "      box-shadow: 0px 1px 3px 1px rgba(0, 0, 0, 0.15);\n",
              "      filter: drop-shadow(0px 1px 2px rgba(0, 0, 0, 0.3));\n",
              "      fill: #FFFFFF;\n",
              "    }\n",
              "  </style>\n",
              "\n",
              "    <script>\n",
              "      const buttonEl =\n",
              "        document.querySelector('#df-43f01593-b54f-428a-b039-b6c3f5a60eda button.colab-df-convert');\n",
              "      buttonEl.style.display =\n",
              "        google.colab.kernel.accessAllowed ? 'block' : 'none';\n",
              "\n",
              "      async function convertToInteractive(key) {\n",
              "        const element = document.querySelector('#df-43f01593-b54f-428a-b039-b6c3f5a60eda');\n",
              "        const dataTable =\n",
              "          await google.colab.kernel.invokeFunction('convertToInteractive',\n",
              "                                                    [key], {});\n",
              "        if (!dataTable) return;\n",
              "\n",
              "        const docLinkHtml = 'Like what you see? Visit the ' +\n",
              "          '<a target=\"_blank\" href=https://colab.research.google.com/notebooks/data_table.ipynb>data table notebook</a>'\n",
              "          + ' to learn more about interactive tables.';\n",
              "        element.innerHTML = '';\n",
              "        dataTable['output_type'] = 'display_data';\n",
              "        await google.colab.output.renderOutput(dataTable, element);\n",
              "        const docLink = document.createElement('div');\n",
              "        docLink.innerHTML = docLinkHtml;\n",
              "        element.appendChild(docLink);\n",
              "      }\n",
              "    </script>\n",
              "  </div>\n",
              "\n",
              "\n",
              "<div id=\"df-24fa326c-f0f7-4aea-ac49-aad8f78706bf\">\n",
              "  <button class=\"colab-df-quickchart\" onclick=\"quickchart('df-24fa326c-f0f7-4aea-ac49-aad8f78706bf')\"\n",
              "            title=\"Suggest charts\"\n",
              "            style=\"display:none;\">\n",
              "\n",
              "<svg xmlns=\"http://www.w3.org/2000/svg\" height=\"24px\"viewBox=\"0 0 24 24\"\n",
              "     width=\"24px\">\n",
              "    <g>\n",
              "        <path d=\"M19 3H5c-1.1 0-2 .9-2 2v14c0 1.1.9 2 2 2h14c1.1 0 2-.9 2-2V5c0-1.1-.9-2-2-2zM9 17H7v-7h2v7zm4 0h-2V7h2v10zm4 0h-2v-4h2v4z\"/>\n",
              "    </g>\n",
              "</svg>\n",
              "  </button>\n",
              "\n",
              "<style>\n",
              "  .colab-df-quickchart {\n",
              "      --bg-color: #E8F0FE;\n",
              "      --fill-color: #1967D2;\n",
              "      --hover-bg-color: #E2EBFA;\n",
              "      --hover-fill-color: #174EA6;\n",
              "      --disabled-fill-color: #AAA;\n",
              "      --disabled-bg-color: #DDD;\n",
              "  }\n",
              "\n",
              "  [theme=dark] .colab-df-quickchart {\n",
              "      --bg-color: #3B4455;\n",
              "      --fill-color: #D2E3FC;\n",
              "      --hover-bg-color: #434B5C;\n",
              "      --hover-fill-color: #FFFFFF;\n",
              "      --disabled-bg-color: #3B4455;\n",
              "      --disabled-fill-color: #666;\n",
              "  }\n",
              "\n",
              "  .colab-df-quickchart {\n",
              "    background-color: var(--bg-color);\n",
              "    border: none;\n",
              "    border-radius: 50%;\n",
              "    cursor: pointer;\n",
              "    display: none;\n",
              "    fill: var(--fill-color);\n",
              "    height: 32px;\n",
              "    padding: 0;\n",
              "    width: 32px;\n",
              "  }\n",
              "\n",
              "  .colab-df-quickchart:hover {\n",
              "    background-color: var(--hover-bg-color);\n",
              "    box-shadow: 0 1px 2px rgba(60, 64, 67, 0.3), 0 1px 3px 1px rgba(60, 64, 67, 0.15);\n",
              "    fill: var(--button-hover-fill-color);\n",
              "  }\n",
              "\n",
              "  .colab-df-quickchart-complete:disabled,\n",
              "  .colab-df-quickchart-complete:disabled:hover {\n",
              "    background-color: var(--disabled-bg-color);\n",
              "    fill: var(--disabled-fill-color);\n",
              "    box-shadow: none;\n",
              "  }\n",
              "\n",
              "  .colab-df-spinner {\n",
              "    border: 2px solid var(--fill-color);\n",
              "    border-color: transparent;\n",
              "    border-bottom-color: var(--fill-color);\n",
              "    animation:\n",
              "      spin 1s steps(1) infinite;\n",
              "  }\n",
              "\n",
              "  @keyframes spin {\n",
              "    0% {\n",
              "      border-color: transparent;\n",
              "      border-bottom-color: var(--fill-color);\n",
              "      border-left-color: var(--fill-color);\n",
              "    }\n",
              "    20% {\n",
              "      border-color: transparent;\n",
              "      border-left-color: var(--fill-color);\n",
              "      border-top-color: var(--fill-color);\n",
              "    }\n",
              "    30% {\n",
              "      border-color: transparent;\n",
              "      border-left-color: var(--fill-color);\n",
              "      border-top-color: var(--fill-color);\n",
              "      border-right-color: var(--fill-color);\n",
              "    }\n",
              "    40% {\n",
              "      border-color: transparent;\n",
              "      border-right-color: var(--fill-color);\n",
              "      border-top-color: var(--fill-color);\n",
              "    }\n",
              "    60% {\n",
              "      border-color: transparent;\n",
              "      border-right-color: var(--fill-color);\n",
              "    }\n",
              "    80% {\n",
              "      border-color: transparent;\n",
              "      border-right-color: var(--fill-color);\n",
              "      border-bottom-color: var(--fill-color);\n",
              "    }\n",
              "    90% {\n",
              "      border-color: transparent;\n",
              "      border-bottom-color: var(--fill-color);\n",
              "    }\n",
              "  }\n",
              "</style>\n",
              "\n",
              "  <script>\n",
              "    async function quickchart(key) {\n",
              "      const quickchartButtonEl =\n",
              "        document.querySelector('#' + key + ' button');\n",
              "      quickchartButtonEl.disabled = true;  // To prevent multiple clicks.\n",
              "      quickchartButtonEl.classList.add('colab-df-spinner');\n",
              "      try {\n",
              "        const charts = await google.colab.kernel.invokeFunction(\n",
              "            'suggestCharts', [key], {});\n",
              "      } catch (error) {\n",
              "        console.error('Error during call to suggestCharts:', error);\n",
              "      }\n",
              "      quickchartButtonEl.classList.remove('colab-df-spinner');\n",
              "      quickchartButtonEl.classList.add('colab-df-quickchart-complete');\n",
              "    }\n",
              "    (() => {\n",
              "      let quickchartButtonEl =\n",
              "        document.querySelector('#df-24fa326c-f0f7-4aea-ac49-aad8f78706bf button');\n",
              "      quickchartButtonEl.style.display =\n",
              "        google.colab.kernel.accessAllowed ? 'block' : 'none';\n",
              "    })();\n",
              "  </script>\n",
              "</div>\n",
              "\n",
              "    </div>\n",
              "  </div>\n"
            ],
            "application/vnd.google.colaboratory.intrinsic+json": {
              "type": "dataframe",
              "variable_name": "df_variacion",
              "summary": "{\n  \"name\": \"df_variacion\",\n  \"rows\": 12,\n  \"fields\": [\n    {\n      \"column\": \"Dosificaci\\u00f3n\",\n      \"properties\": {\n        \"dtype\": \"category\",\n        \"num_unique_values\": 4,\n        \"samples\": [\n          \"5% PE y 0.5% PET\",\n          \"15% PE y 0.5% PET\",\n          \"Patr\\u00f3n\"\n        ],\n        \"semantic_type\": \"\",\n        \"description\": \"\"\n      }\n    },\n    {\n      \"column\": \"Bloque 1\",\n      \"properties\": {\n        \"dtype\": \"number\",\n        \"std\": 0.7675994019910555,\n        \"min\": -2.08333333333333,\n        \"max\": 0.7692307692307693,\n        \"num_unique_values\": 12,\n        \"samples\": [\n          0.2564102564102564,\n          0.7692307692307693,\n          -0.08547008547008061\n        ],\n        \"semantic_type\": \"\",\n        \"description\": \"\"\n      }\n    },\n    {\n      \"column\": \"Bloque 2\",\n      \"properties\": {\n        \"dtype\": \"number\",\n        \"std\": 0.5235498263009895,\n        \"min\": -1.6369047619047579,\n        \"max\": 0.2564102564102564,\n        \"num_unique_values\": 9,\n        \"samples\": [\n          -0.1709401709401758,\n          0.0,\n          -0.8928571428571428\n        ],\n        \"semantic_type\": \"\",\n        \"description\": \"\"\n      }\n    },\n    {\n      \"column\": \"Bloque 3\",\n      \"properties\": {\n        \"dtype\": \"number\",\n        \"std\": 0.52841687779725,\n        \"min\": -1.3392857142857142,\n        \"max\": 0.5982905982905934,\n        \"num_unique_values\": 10,\n        \"samples\": [\n          -0.341880341880337,\n          -0.04273504273504759,\n          -0.5952380952380995\n        ],\n        \"semantic_type\": \"\",\n        \"description\": \"\"\n      }\n    },\n    {\n      \"column\": \"Bloque 4\",\n      \"properties\": {\n        \"dtype\": \"number\",\n        \"std\": 0.5720271287160847,\n        \"min\": -1.4880952380952424,\n        \"max\": 0.2564102564102564,\n        \"num_unique_values\": 10,\n        \"samples\": [\n          -0.2564102564102564,\n          -0.08547008547008061,\n          -1.4880952380952424\n        ],\n        \"semantic_type\": \"\",\n        \"description\": \"\"\n      }\n    },\n    {\n      \"column\": \"Bloque 5\",\n      \"properties\": {\n        \"dtype\": \"number\",\n        \"std\": 0.5612036251646274,\n        \"min\": -1.3392857142857142,\n        \"max\": 0.341880341880337,\n        \"num_unique_values\": 10,\n        \"samples\": [\n          0.341880341880337,\n          0.08547008547008061,\n          -1.1904761904761862\n        ],\n        \"semantic_type\": \"\",\n        \"description\": \"\"\n      }\n    },\n    {\n      \"column\": \"Dimension\",\n      \"properties\": {\n        \"dtype\": \"category\",\n        \"num_unique_values\": 3,\n        \"samples\": [\n          \"Largo\",\n          \"Ancho\",\n          \"Altura\"\n        ],\n        \"semantic_type\": \"\",\n        \"description\": \"\"\n      }\n    }\n  ]\n}"
            }
          },
          "metadata": {},
          "execution_count": 32
        }
      ]
    },
    {
      "cell_type": "markdown",
      "source": [
        "Pruebas de Normalidad\n",
        "\n",
        "Se Aplica prueba de Shapiro-Wilk para evaluar si los datos siguen uan distribucion de probabilidad normal. Se emplea en muestras pequeñas (<50 datos)\n",
        "\n",
        "H0: Los datos siguen una distribución normal.\n",
        "\n",
        "H1: Los datos no siguen una distribución normal.\n",
        "\n",
        "Si p > 0.05, se acepta H₀ → Los datos son normales (Aplicar ANOVA clásico).\n",
        "\n",
        "Si p < 0.05, se rechaza H₀ → Los datos no son normales (Aplicar ANOVA no paramétrico)."
      ],
      "metadata": {
        "id": "GfYWzv_tVatQ"
      }
    },
    {
      "cell_type": "code",
      "source": [
        "# Función para aplicar Shapiro-Wilk y obtener resultados correctamente\n",
        "\n",
        "def aplicar_shapiro_variacion(data, dimension):\n",
        "    resultados = []\n",
        "    dosificaciones = ['Patrón', '5% PE y 0.5% PET', '10% PE y 0.5% PET', '15% PE y 0.5% PET']\n",
        "\n",
        "    for dosificacion in dosificaciones:\n",
        "        valores = data[(data['Dimension'] == dimension) & (data['Dosificación'] == dosificacion)].iloc[:, 1:6].values.flatten()\n",
        "        stat, p = shapiro(valores)\n",
        "        decision = 'Acepta H₀ (Distribución normal)' if p > 0.05 else 'Rechaza H₀ (No normal)'\n",
        "        resultados.append([dosificacion, round(stat, 4), round(p, 4), decision])\n",
        "\n",
        "    # Imprimir tabla\n",
        "    print(f\"\\nPrueba de Shapiro-Wilk para la dimensión: {dimension}\")\n",
        "    print(\"=\" * 60)\n",
        "    print(\"{:<25} {:<12} {:<12} {:<25}\".format(\"Dosificación\", \"Estadístico\", \"Valor p\", \"Resultado\"))\n",
        "    print(\"-\" * 60)\n",
        "    for row in resultados:\n",
        "        print(\"{:<25} {:<12} {:<12} {:<25}\".format(*row))\n",
        "\n",
        "# Aplicar prueba de Shapiro-Wilk para cada dimensión (Largo, Ancho, Altura)\n",
        "\n",
        "for dimension in [\"Largo\", \"Ancho\", \"Altura\"]:\n",
        "    aplicar_shapiro_variacion(df_variacion, dimension)"
      ],
      "metadata": {
        "colab": {
          "base_uri": "https://localhost:8080/"
        },
        "id": "AObn8NFOVdTv",
        "outputId": "d7491f31-d2f8-410f-e57b-48be8e32250d"
      },
      "execution_count": 33,
      "outputs": [
        {
          "output_type": "stream",
          "name": "stdout",
          "text": [
            "\n",
            "Prueba de Shapiro-Wilk para la dimensión: Largo\n",
            "============================================================\n",
            "Dosificación              Estadístico  Valor p      Resultado                \n",
            "------------------------------------------------------------\n",
            "Patrón                    0.803        0.0857       Acepta H₀ (Distribución normal)\n",
            "5% PE y 0.5% PET          0.9141       0.4925       Acepta H₀ (Distribución normal)\n",
            "10% PE y 0.5% PET         0.9034       0.429        Acepta H₀ (Distribución normal)\n",
            "15% PE y 0.5% PET         0.9418       0.6786       Acepta H₀ (Distribución normal)\n",
            "\n",
            "Prueba de Shapiro-Wilk para la dimensión: Ancho\n",
            "============================================================\n",
            "Dosificación              Estadístico  Valor p      Resultado                \n",
            "------------------------------------------------------------\n",
            "Patrón                    0.684        0.0065       Rechaza H₀ (No normal)   \n",
            "5% PE y 0.5% PET          0.684        0.0065       Rechaza H₀ (No normal)   \n",
            "10% PE y 0.5% PET         0.8422       0.171        Acepta H₀ (Distribución normal)\n",
            "15% PE y 0.5% PET         0.9053       0.4399       Acepta H₀ (Distribución normal)\n",
            "\n",
            "Prueba de Shapiro-Wilk para la dimensión: Altura\n",
            "============================================================\n",
            "Dosificación              Estadístico  Valor p      Resultado                \n",
            "------------------------------------------------------------\n",
            "Patrón                    0.989        0.9761       Acepta H₀ (Distribución normal)\n",
            "5% PE y 0.5% PET          0.9703       0.8774       Acepta H₀ (Distribución normal)\n",
            "10% PE y 0.5% PET         0.8581       0.2213       Acepta H₀ (Distribución normal)\n",
            "15% PE y 0.5% PET         0.8208       0.1185       Acepta H₀ (Distribución normal)\n"
          ]
        }
      ]
    },
    {
      "cell_type": "markdown",
      "source": [
        "Aplicando la prueba de homogeneidad de Levene"
      ],
      "metadata": {
        "id": "k-I51nFSebAf"
      }
    },
    {
      "cell_type": "code",
      "source": [
        "# Aplicar prueba de Levene con media para datos normales y mediana para no normales\n",
        "\n",
        "# Definir qué dimensiones usarán la media o la mediana según la normalidad\n",
        "uso_media = [\"Largo\", \"Altura\"]  # Cumplen normalidad en todos los grupos\n",
        "uso_mediana = [\"Ancho\"]  # No cumple normalidad en algunos grupos\n",
        "\n",
        "# Aplicar prueba de Levene según la mejor opción para cada dimensión\n",
        "resultados_levene_mixto = []\n",
        "dimensiones = df_variacion[\"Dimension\"].unique()\n",
        "\n",
        "for dimension in dimensiones:\n",
        "    valores_grupos = [df_variacion[(df_variacion[\"Dimension\"] == dimension) &\n",
        "                                   (df_variacion[\"Dosificación\"] == dos)].iloc[:, 1:6].values.flatten()\n",
        "                      for dos in df_variacion[\"Dosificación\"].unique()]\n",
        "\n",
        "    # Seleccionar si se usa la media o la mediana\n",
        "    center_method = 'mean' if dimension in uso_media else 'median'\n",
        "\n",
        "    stat, p = levene(*valores_grupos, center=center_method)\n",
        "    decision = \"Acepta H₀ (Varianzas homogéneas)\" if p > 0.05 else \"Rechaza H₀ (Varianzas no homogéneas)\"\n",
        "    resultados_levene_mixto.append([dimension, center_method, round(stat, 4), round(p, 4), decision])\n",
        "\n",
        "# Mostrar los resultados en formato de tabla\n",
        "print(\"\\nPrueba de Levene con Media o Mediana según Normalidad\")\n",
        "print(\"=\" * 85)\n",
        "print(\"{:<15} {:<12} {:<10} {:<10} {:<30}\".format(\"Dimensión\", \"Método\", \"Estadístico\", \"Valor p\", \"Resultado\"))\n",
        "print(\"-\" * 85)\n",
        "for row in resultados_levene_mixto:\n",
        "    print(\"{:<15} {:<12} {:<10} {:<10} {:<30}\".format(*row))"
      ],
      "metadata": {
        "colab": {
          "base_uri": "https://localhost:8080/"
        },
        "id": "Plns3y8W_9tr",
        "outputId": "82b224e2-6a3c-4817-bce3-839bd27b9b2a"
      },
      "execution_count": 34,
      "outputs": [
        {
          "output_type": "stream",
          "name": "stdout",
          "text": [
            "\n",
            "Prueba de Levene con Media o Mediana según Normalidad\n",
            "=====================================================================================\n",
            "Dimensión       Método       Estadístico Valor p    Resultado                     \n",
            "-------------------------------------------------------------------------------------\n",
            "Largo           mean         3.2442     0.0498     Rechaza H₀ (Varianzas no homogéneas)\n",
            "Ancho           median       0.7273     0.5505     Acepta H₀ (Varianzas homogéneas)\n",
            "Altura          mean         0.7331     0.5473     Acepta H₀ (Varianzas homogéneas)\n"
          ]
        }
      ]
    },
    {
      "cell_type": "markdown",
      "source": [
        "Aplicando prueba ANOVA\n",
        "\n",
        "Hipotesis nula (H0): \"La adición de poliestireno expandido (PE) y fibras de PET no influye significativamente en la variacion dimensional del bloque de concreto.\"\n",
        "\n",
        "Hipotesis alternativa (H1): \"La adición de poliestireno expandido (PE) y fibras de PET influye significativamente en la variacion dimensional del bloque de concreto.\""
      ],
      "metadata": {
        "id": "UXsx9afhe-j4"
      }
    },
    {
      "cell_type": "code",
      "source": [
        "# Función para calcular el sesgo de la distribución por cada dosificación en cada dimensión\n",
        "def calcular_sesgo(data, dimension):\n",
        "    resultados = []\n",
        "    dosificaciones = data[\"Dosificación\"].unique()\n",
        "\n",
        "    for dosificacion in dosificaciones:\n",
        "        valores = data[(data[\"Dimension\"] == dimension) & (data[\"Dosificación\"] == dosificacion)].iloc[:, 1:6].values.flatten()\n",
        "        sesgo = skew(valores)  # Calcular el sesgo\n",
        "        resultados.append([dimension, dosificacion, round(sesgo, 4)])\n",
        "\n",
        "    return resultados\n",
        "\n",
        "# Aplicar cálculo de sesgo para cada dimensión\n",
        "resultados_sesgo = []\n",
        "for dimension in df_variacion[\"Dimension\"].unique():\n",
        "    resultados_sesgo.extend(calcular_sesgo(df_variacion, dimension))\n",
        "\n",
        "# Mostrar los resultados en formato de tabla\n",
        "print(\"\\nCálculo del Sesgo para cada Dimensión y Dosificación\")\n",
        "print(\"=\" * 65)\n",
        "print(\"{:<15} {:<25} {:<10}\".format(\"Dimensión\", \"Dosificación\", \"Sesgo\"))\n",
        "print(\"-\" * 65)\n",
        "for row in resultados_sesgo:\n",
        "    print(\"{:<15} {:<25} {:<10}\".format(*row))"
      ],
      "metadata": {
        "colab": {
          "base_uri": "https://localhost:8080/"
        },
        "id": "EcIEtJY4PwjV",
        "outputId": "d65190fd-8975-4bcb-ecca-0e985b9be88d"
      },
      "execution_count": 43,
      "outputs": [
        {
          "output_type": "stream",
          "name": "stdout",
          "text": [
            "\n",
            "Cálculo del Sesgo para cada Dimensión y Dosificación\n",
            "=================================================================\n",
            "Dimensión       Dosificación              Sesgo     \n",
            "-----------------------------------------------------------------\n",
            "Largo           Patrón                    -0.2115   \n",
            "Largo           5% PE y 0.5% PET          0.75      \n",
            "Largo           10% PE y 0.5% PET         -0.5322   \n",
            "Largo           15% PE y 0.5% PET         -0.5433   \n",
            "Ancho           Patrón                    -0.4082   \n",
            "Ancho           5% PE y 0.5% PET          -0.4082   \n",
            "Ancho           10% PE y 0.5% PET         -0.9705   \n",
            "Ancho           15% PE y 0.5% PET         -0.6289   \n",
            "Altura          Patrón                    0.2078    \n",
            "Altura          5% PE y 0.5% PET          -0.0195   \n",
            "Altura          10% PE y 0.5% PET         -0.645    \n",
            "Altura          15% PE y 0.5% PET         -0.0      \n"
          ]
        }
      ]
    },
    {
      "cell_type": "code",
      "source": [
        "# Función para aplicar ANOVA clásico o ANOVA de Welch según la homogeneidad\n",
        "def aplicar_anova(data, dimension, homogeneidad):\n",
        "    modelo = ols('Variación ~ C(Dosificación)', data=data[data['Dimension'] == dimension]).fit()\n",
        "    if homogeneidad:\n",
        "        anova = sm.stats.anova_lm(modelo, typ=2)  # ANOVA clásico\n",
        "    else:\n",
        "        anova = sm.stats.anova_lm(modelo, typ=2, robust='hc3')  # ANOVA de Welch\n",
        "    return anova\n",
        "\n",
        "# Reestructurar el DataFrame para incluir los valores individuales\n",
        "df_long_variacion = df_variacion.melt(id_vars=['Dosificación', 'Dimension'],\n",
        "                                      value_vars=['Bloque 1', 'Bloque 2', 'Bloque 3', 'Bloque 4', 'Bloque 5'],\n",
        "                                      var_name='Bloque', value_name='Variación')\n",
        "\n",
        "# Aplicar ANOVA según homogeneidad de varianzas\n",
        "resultados_anova = {}\n",
        "\n",
        "# Definir tipo de anova a aplicar\n",
        "anova_clasico = [\"Ancho\", \"Altura\"]\n",
        "anova_welch = [\"Largo\"]\n",
        "\n",
        "resultados_anova[\"Largo\"] = aplicar_anova(df_long_variacion, \"Largo\", homogeneidad=False)\n",
        "resultados_anova[\"Ancho\"] = aplicar_anova(df_long_variacion, \"Ancho\", homogeneidad=True)\n",
        "resultados_anova[\"Altura\"] = aplicar_anova(df_long_variacion, \"Altura\", homogeneidad=True)\n",
        "\n",
        "# Interpretación del resultado\n",
        "for dimension, anova in resultados_anova.items():\n",
        "    tipo_anova = 'Clasico' if dimension in anova_clasico else 'de Welch'\n",
        "    print(f\"\\n ANOVA {tipo_anova} para la dimensión {dimension}:\")\n",
        "    print(\"=\" * 50)\n",
        "    print(anova)\n",
        "    p_valor = anova.iloc[0][\"PR(>F)\"]\n",
        "    F_valor = anova.iloc[0][\"F\"]\n",
        "    if p_valor < 0.05:\n",
        "        print(\"Se rechaza la hipótesis nula, lo que indica que existen diferencias significativas en la variación dimensional entre las diferentes dosificaciones de bloques de concreto.\")\n",
        "        print(f\"Valor p: {p_valor:.6f}\")\n",
        "        print(f\"Estadístico F: {F_valor:.4f}\")\n",
        "        print(\"Aplicar análisis post-hoc (Tukey) para identificar entre qué dosificaciones hay diferencias significativas.\")\n",
        "    else:\n",
        "        print(\"No se rechaza la hipótesis nula, lo que indica que no hay diferencias significativas en la variación dimensional entre las diferentes dosificaciones.\")\n",
        "\n"
      ],
      "metadata": {
        "colab": {
          "base_uri": "https://localhost:8080/"
        },
        "id": "bgpU9oMrFuUC",
        "outputId": "c9580101-8ecf-43ab-a8c7-f00464e08642"
      },
      "execution_count": 42,
      "outputs": [
        {
          "output_type": "stream",
          "name": "stdout",
          "text": [
            "\n",
            " ANOVA de Welch para la dimensión Largo:\n",
            "==================================================\n",
            "                   sum_sq    df         F    PR(>F)\n",
            "C(Dosificación)  0.014860   3.0  0.418872  0.741917\n",
            "Residual         0.189203  16.0       NaN       NaN\n",
            "No se rechaza la hipótesis nula, lo que indica que no hay diferencias significativas en la variación dimensional entre las diferentes dosificaciones.\n",
            "\n",
            " ANOVA Clasico para la dimensión Ancho:\n",
            "==================================================\n",
            "                   sum_sq    df          F    PR(>F)\n",
            "C(Dosificación)  3.941681   3.0  24.217687  0.000003\n",
            "Residual         0.868056  16.0        NaN       NaN\n",
            "Se rechaza la hipótesis nula, lo que indica que existen diferencias significativas en la variación dimensional entre las diferentes dosificaciones de bloques de concreto.\n",
            "Valor p: 0.000003\n",
            "Estadístico F: 24.2177\n",
            "Aplicar análisis post-hoc (Tukey) para identificar entre qué dosificaciones hay diferencias significativas.\n",
            "\n",
            " ANOVA Clasico para la dimensión Altura:\n",
            "==================================================\n",
            "                   sum_sq    df        F    PR(>F)\n",
            "C(Dosificación)  0.105194   3.0  0.40678  0.750214\n",
            "Residual         1.379210  16.0      NaN       NaN\n",
            "No se rechaza la hipótesis nula, lo que indica que no hay diferencias significativas en la variación dimensional entre las diferentes dosificaciones.\n"
          ]
        }
      ]
    },
    {
      "cell_type": "markdown",
      "source": [
        "Analizamos para el ancho"
      ],
      "metadata": {
        "id": "IXPMv38CiS7t"
      }
    },
    {
      "cell_type": "code",
      "source": [
        "# Filtrar los datos solo para la dimensión \"Ancho\"\n",
        "df_ancho = df_variacion[df_variacion[\"Dimension\"] == \"Ancho\"].melt(id_vars=[\"Dosificación\", \"Dimension\"],\n",
        "                                                                   value_vars=[\"Bloque 1\", \"Bloque 2\", \"Bloque 3\", \"Bloque 4\", \"Bloque 5\"],\n",
        "                                                                   var_name=\"Bloque\", value_name=\"Variacion\")\n",
        "\n",
        "# Aplicar la prueba de Tukey para la dimensión Ancho\n",
        "tukey_ancho = pairwise_tukeyhsd(endog=df_ancho[\"Variacion\"],\n",
        "                                groups=df_ancho[\"Dosificación\"],\n",
        "                                alpha=0.05)\n",
        "\n",
        "# Mostrar resultados\n",
        "print(\"Prueba de Tukey para Variación Dimensional en Ancho\")\n",
        "print(\"=\" * 60)\n",
        "print(tukey_ancho)"
      ],
      "metadata": {
        "colab": {
          "base_uri": "https://localhost:8080/"
        },
        "id": "PPte_UMniVCU",
        "outputId": "901505bd-cd25-4cea-951d-fefc213acf5f"
      },
      "execution_count": 41,
      "outputs": [
        {
          "output_type": "stream",
          "name": "stdout",
          "text": [
            "Prueba de Tukey para Variación Dimensional en Ancho\n",
            "============================================================\n",
            "           Multiple Comparison of Means - Tukey HSD, FWER=0.05           \n",
            "=========================================================================\n",
            "      group1            group2      meandiff p-adj   lower  upper  reject\n",
            "-------------------------------------------------------------------------\n",
            "10% PE y 0.5% PET 15% PE y 0.5% PET   0.8333 0.0002  0.4119 1.2548   True\n",
            "10% PE y 0.5% PET  5% PE y 0.5% PET   0.5655 0.0071   0.144 0.9869   True\n",
            "10% PE y 0.5% PET            Patrón   1.2202    0.0  0.7988 1.6417   True\n",
            "15% PE y 0.5% PET  5% PE y 0.5% PET  -0.2679 0.3011 -0.6893 0.1536  False\n",
            "15% PE y 0.5% PET            Patrón   0.3869 0.0778 -0.0346 0.8084  False\n",
            " 5% PE y 0.5% PET            Patrón   0.6548 0.0021  0.2333 1.0762   True\n",
            "-------------------------------------------------------------------------\n"
          ]
        }
      ]
    },
    {
      "cell_type": "code",
      "source": [
        "# Crear un gráfico de cajas para comparar la variación dimensional en Largo, Ancho y Altura\n",
        "plt.figure(figsize=(8, 6))\n",
        "sns.boxplot(x=\"Dimension\", y=\"Variacion\", hue=\"Dosificación\", data=df_variacion.melt(id_vars=[\"Dosificación\", \"Dimension\"],\n",
        "                                                                                     value_vars=[\"Bloque 1\", \"Bloque 2\", \"Bloque 3\", \"Bloque 4\", \"Bloque 5\"],\n",
        "                                                                                     var_name=\"Bloque\", value_name=\"Variacion\"),\n",
        "            palette=\"Set2\")\n",
        "\n",
        "# Personalizar el gráfico\n",
        "plt.title(\"Comparación de Variación Dimensional por Dimensión\")\n",
        "plt.xlabel(\"Dimensión\")\n",
        "plt.ylabel(\"Variación Dimensional (%)\")\n",
        "plt.legend(title=\"Dosificación\")\n",
        "plt.grid(True, linestyle=\"--\", alpha=0.6)\n",
        "\n",
        "# Ajustar los límites del eje y\n",
        "plt.ylim(-2, 2)\n",
        "\n",
        "# Mostrar el gráfico\n",
        "plt.show()"
      ],
      "metadata": {
        "colab": {
          "base_uri": "https://localhost:8080/",
          "height": 565
        },
        "id": "UKaxfgvoivAV",
        "outputId": "0d561124-45b5-470c-dc92-70e2679d984b"
      },
      "execution_count": 44,
      "outputs": [
        {
          "output_type": "display_data",
          "data": {
            "text/plain": [
              "<Figure size 800x600 with 1 Axes>"
            ],
            "image/png": "[encoded data removed]"
          },
          "metadata": {}
        }
      ]
    },
    {
      "cell_type": "code",
      "source": [
        "# Calcular los valores atípicos para cada dimensión y dosificación por separado\n",
        "outliers_individuales = []\n",
        "\n",
        "# Iterar sobre cada dimensión\n",
        "for dimension in [\"Largo\", \"Ancho\", \"Altura\"]:\n",
        "    df_actual = df_variacion[df_variacion[\"Dimension\"] == dimension].melt(id_vars=[\"Dosificación\", \"Dimension\"],\n",
        "                                                                           value_vars=[\"Bloque 1\", \"Bloque 2\", \"Bloque 3\", \"Bloque 4\", \"Bloque 5\"],\n",
        "                                                                           var_name=\"Bloque\", value_name=\"Variacion\")\n",
        "\n",
        "    # Iterar sobre cada dosificación\n",
        "    for dosificacion in df_actual[\"Dosificación\"].unique():\n",
        "        df_dosif = df_actual[df_actual[\"Dosificación\"] == dosificacion]\n",
        "\n",
        "        # Calcular Q1 (percentil 25) y Q3 (percentil 75) por dosificación\n",
        "        Q1 = df_dosif[\"Variacion\"].quantile(0.25)\n",
        "        Q3 = df_dosif[\"Variacion\"].quantile(0.75)\n",
        "        IQR = Q3 - Q1  # Rango intercuartil\n",
        "\n",
        "        # Definir límites para valores atípicos\n",
        "        limite_inferior = Q1 - 1.5 * IQR\n",
        "        limite_superior = Q3 + 1.5 * IQR\n",
        "\n",
        "        # Filtrar valores atípicos dentro de cada dosificación\n",
        "        outliers_dosif = df_dosif[(df_dosif[\"Variacion\"] < limite_inferior) | (df_dosif[\"Variacion\"] > limite_superior)]\n",
        "\n",
        "        # Guardar los resultados\n",
        "        for _, row in outliers_dosif.iterrows():\n",
        "            outliers_individuales.append([dimension, dosificacion, row[\"Bloque\"], row[\"Variacion\"]])\n",
        "\n",
        "# Convertir los valores atípicos en un DataFrame para visualización\n",
        "df_outliers_individuales = pd.DataFrame(outliers_individuales, columns=[\"Dimensión\", \"Dosificación\", \"Bloque\", \"Valor Atípico\"])\n",
        "\n",
        "# Mostrar resultados\n",
        "print(\"\\n🔹 Valores Atípicos Identificados por Dosificación\")\n",
        "print(\"=\" * 75)\n",
        "print(df_outliers_individuales)"
      ],
      "metadata": {
        "colab": {
          "base_uri": "https://localhost:8080/"
        },
        "id": "mTHtDD3MlPoT",
        "outputId": "e1b31952-8db8-43ea-9e4d-e9ffd2fe1916"
      },
      "execution_count": 40,
      "outputs": [
        {
          "output_type": "stream",
          "name": "stdout",
          "text": [
            "\n",
            "🔹 Valores Atípicos Identificados por Dosificación\n",
            "===========================================================================\n",
            "  Dimensión       Dosificación    Bloque  Valor Atípico\n",
            "0     Largo   5% PE y 0.5% PET  Bloque 5       0.085470\n",
            "1     Largo  15% PE y 0.5% PET  Bloque 1      -0.256410\n",
            "2     Ancho  10% PE y 0.5% PET  Bloque 1      -2.083333\n",
            "3    Altura   5% PE y 0.5% PET  Bloque 1       0.769231\n"
          ]
        }
      ]
    }
  ]
}